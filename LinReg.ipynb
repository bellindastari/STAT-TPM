{
  "cells": [
    {
      "cell_type": "code",
      "execution_count": null,
      "metadata": {
        "id": "b0UmW9rhiNgq"
      },
      "outputs": [],
      "source": [
        "import pandas as pd\n",
        "import numpy as np\n",
        "from sklearn.model_selection import train_test_split, GridSearchCV\n",
        "from sklearn.linear_model import LinearRegression\n",
        "from sklearn.metrics import mean_squared_error, r2_score"
      ]
    },
    {
      "cell_type": "code",
      "execution_count": null,
      "metadata": {
        "id": "X2PJRGuXiNgs",
        "outputId": "31a873ac-2515-46c8-916c-91fb49ca1dba"
      },
      "outputs": [
        {
          "data": {
            "text/html": [
              "<div>\n",
              "<style scoped>\n",
              "    .dataframe tbody tr th:only-of-type {\n",
              "        vertical-align: middle;\n",
              "    }\n",
              "\n",
              "    .dataframe tbody tr th {\n",
              "        vertical-align: top;\n",
              "    }\n",
              "\n",
              "    .dataframe thead th {\n",
              "        text-align: right;\n",
              "    }\n",
              "</style>\n",
              "<table border=\"1\" class=\"dataframe\">\n",
              "  <thead>\n",
              "    <tr style=\"text-align: right;\">\n",
              "      <th></th>\n",
              "      <th>PROVINSI</th>\n",
              "      <th>TPT</th>\n",
              "      <th>TPP_SD</th>\n",
              "      <th>TPP_SMP</th>\n",
              "      <th>TPP_SMA</th>\n",
              "      <th>UPAH</th>\n",
              "      <th>PENGELUARAN</th>\n",
              "    </tr>\n",
              "  </thead>\n",
              "  <tbody>\n",
              "    <tr>\n",
              "      <th>0</th>\n",
              "      <td>ACEH</td>\n",
              "      <td>6.03</td>\n",
              "      <td>99.08</td>\n",
              "      <td>94.55</td>\n",
              "      <td>74.46</td>\n",
              "      <td>2828145.778</td>\n",
              "      <td>874702.5</td>\n",
              "    </tr>\n",
              "    <tr>\n",
              "      <th>1</th>\n",
              "      <td>SUMATERA UTARA</td>\n",
              "      <td>5.89</td>\n",
              "      <td>98.75</td>\n",
              "      <td>94.35</td>\n",
              "      <td>74.43</td>\n",
              "      <td>2826233.443</td>\n",
              "      <td>951545.5</td>\n",
              "    </tr>\n",
              "    <tr>\n",
              "      <th>2</th>\n",
              "      <td>SUMATERA BARAT</td>\n",
              "      <td>5.94</td>\n",
              "      <td>95.81</td>\n",
              "      <td>90.65</td>\n",
              "      <td>68.64</td>\n",
              "      <td>2980044.498</td>\n",
              "      <td>1038088.5</td>\n",
              "    </tr>\n",
              "    <tr>\n",
              "      <th>3</th>\n",
              "      <td>RIAU</td>\n",
              "      <td>4.23</td>\n",
              "      <td>98.09</td>\n",
              "      <td>90.52</td>\n",
              "      <td>67.79</td>\n",
              "      <td>3284759.902</td>\n",
              "      <td>1139477.0</td>\n",
              "    </tr>\n",
              "    <tr>\n",
              "      <th>4</th>\n",
              "      <td>JAMBI</td>\n",
              "      <td>4.53</td>\n",
              "      <td>97.76</td>\n",
              "      <td>89.35</td>\n",
              "      <td>66.62</td>\n",
              "      <td>2890582.041</td>\n",
              "      <td>1063650.5</td>\n",
              "    </tr>\n",
              "    <tr>\n",
              "      <th>5</th>\n",
              "      <td>SUMATERA SELATAN</td>\n",
              "      <td>4.11</td>\n",
              "      <td>97.58</td>\n",
              "      <td>87.95</td>\n",
              "      <td>64.81</td>\n",
              "      <td>3261016.731</td>\n",
              "      <td>886096.0</td>\n",
              "    </tr>\n",
              "    <tr>\n",
              "      <th>6</th>\n",
              "      <td>BENGKULU</td>\n",
              "      <td>3.42</td>\n",
              "      <td>97.10</td>\n",
              "      <td>89.25</td>\n",
              "      <td>63.41</td>\n",
              "      <td>2910804.247</td>\n",
              "      <td>992975.0</td>\n",
              "    </tr>\n",
              "    <tr>\n",
              "      <th>7</th>\n",
              "      <td>LAMPUNG</td>\n",
              "      <td>4.23</td>\n",
              "      <td>98.67</td>\n",
              "      <td>87.67</td>\n",
              "      <td>64.54</td>\n",
              "      <td>2737913.743</td>\n",
              "      <td>889077.5</td>\n",
              "    </tr>\n",
              "    <tr>\n",
              "      <th>8</th>\n",
              "      <td>KEP. BANGKA BELITUNG</td>\n",
              "      <td>4.56</td>\n",
              "      <td>96.01</td>\n",
              "      <td>87.11</td>\n",
              "      <td>68.96</td>\n",
              "      <td>3419400.003</td>\n",
              "      <td>1287651.5</td>\n",
              "    </tr>\n",
              "    <tr>\n",
              "      <th>9</th>\n",
              "      <td>KEP. RIAU</td>\n",
              "      <td>6.80</td>\n",
              "      <td>97.92</td>\n",
              "      <td>95.51</td>\n",
              "      <td>78.97</td>\n",
              "      <td>4760712.898</td>\n",
              "      <td>1557937.5</td>\n",
              "    </tr>\n",
              "  </tbody>\n",
              "</table>\n",
              "</div>"
            ],
            "text/plain": [
              "               PROVINSI   TPT  TPP_SD  TPP_SMP  TPP_SMA         UPAH  \\\n",
              "0                  ACEH  6.03   99.08    94.55    74.46  2828145.778   \n",
              "1        SUMATERA UTARA  5.89   98.75    94.35    74.43  2826233.443   \n",
              "2        SUMATERA BARAT  5.94   95.81    90.65    68.64  2980044.498   \n",
              "3                  RIAU  4.23   98.09    90.52    67.79  3284759.902   \n",
              "4                 JAMBI  4.53   97.76    89.35    66.62  2890582.041   \n",
              "5      SUMATERA SELATAN  4.11   97.58    87.95    64.81  3261016.731   \n",
              "6              BENGKULU  3.42   97.10    89.25    63.41  2910804.247   \n",
              "7               LAMPUNG  4.23   98.67    87.67    64.54  2737913.743   \n",
              "8  KEP. BANGKA BELITUNG  4.56   96.01    87.11    68.96  3419400.003   \n",
              "9             KEP. RIAU  6.80   97.92    95.51    78.97  4760712.898   \n",
              "\n",
              "   PENGELUARAN  \n",
              "0     874702.5  \n",
              "1     951545.5  \n",
              "2    1038088.5  \n",
              "3    1139477.0  \n",
              "4    1063650.5  \n",
              "5     886096.0  \n",
              "6     992975.0  \n",
              "7     889077.5  \n",
              "8    1287651.5  \n",
              "9    1557937.5  "
            ]
          },
          "execution_count": 375,
          "metadata": {},
          "output_type": "execute_result"
        }
      ],
      "source": [
        "data = pd.read_csv('Data Official Statistics.csv')\n",
        "data.head(10)"
      ]
    },
    {
      "cell_type": "markdown",
      "metadata": {
        "id": "tnRzLmP8iNgu"
      },
      "source": [
        "TPT: Tingkat Pengangguran Terbuka\n",
        "\n",
        "TPP_SD/SMP/SMA: Tingkat Penyelesaian Pendidikan\n",
        "\n",
        "UPAH: Rata-rata upah sebulan karyawan\n",
        "\n",
        "PENGELUARAN: Rata-rata pengeluaran per kapita sebulan untuk makanan dan bukan makanan"
      ]
    },
    {
      "cell_type": "code",
      "execution_count": null,
      "metadata": {
        "id": "uI-cI5zFiNgw",
        "outputId": "41b48a5b-a23b-4c51-e527-120323b416a7"
      },
      "outputs": [
        {
          "name": "stdout",
          "output_type": "stream",
          "text": [
            "<class 'pandas.core.frame.DataFrame'>\n",
            "RangeIndex: 34 entries, 0 to 33\n",
            "Data columns (total 7 columns):\n",
            " #   Column       Non-Null Count  Dtype  \n",
            "---  ------       --------------  -----  \n",
            " 0   PROVINSI     34 non-null     object \n",
            " 1   TPT          34 non-null     float64\n",
            " 2   TPP_SD       34 non-null     float64\n",
            " 3   TPP_SMP      34 non-null     float64\n",
            " 4   TPP_SMA      34 non-null     float64\n",
            " 5   UPAH         34 non-null     float64\n",
            " 6   PENGELUARAN  34 non-null     float64\n",
            "dtypes: float64(6), object(1)\n",
            "memory usage: 2.0+ KB\n"
          ]
        }
      ],
      "source": [
        "data.info()"
      ]
    },
    {
      "cell_type": "markdown",
      "metadata": {
        "id": "TFB2AvwziNgx"
      },
      "source": [
        "# Train test split"
      ]
    },
    {
      "cell_type": "code",
      "execution_count": null,
      "metadata": {
        "id": "Ja0Wt0jwiNgy"
      },
      "outputs": [],
      "source": [
        "# Fitur dan target\n",
        "X = data[['TPT', 'TPP_SD', 'TPP_SMP', 'TPP_SMA', 'UPAH']]\n",
        "y = data['PENGELUARAN']\n",
        "\n",
        "X_train, X_test, y_train, y_test = train_test_split(X, y, test_size=0.20, random_state=30)\n"
      ]
    },
    {
      "cell_type": "markdown",
      "metadata": {
        "id": "SqOT2RyyiNgz"
      },
      "source": [
        "# Modelling"
      ]
    },
    {
      "cell_type": "code",
      "execution_count": null,
      "metadata": {
        "id": "OcB13kE6iNg0",
        "outputId": "13abafc0-6a05-4ac8-e340-0c297c4bec62"
      },
      "outputs": [
        {
          "name": "stdout",
          "output_type": "stream",
          "text": [
            "Fitting 5 folds for each of 16 candidates, totalling 80 fits\n",
            "Best Parameters: {'copy_X': True, 'fit_intercept': False, 'n_jobs': -1, 'positive': False}\n"
          ]
        }
      ],
      "source": [
        "from sklearn.linear_model import LinearRegression\n",
        "from sklearn.model_selection import GridSearchCV\n",
        "\n",
        "# Definisi parameter grid\n",
        "param_grid = {\n",
        "    'fit_intercept': [True, False],\n",
        "    'positive': [True, False],\n",
        "    'copy_X': [True, False],\n",
        "    'n_jobs': [-1, None]\n",
        "}\n",
        "\n",
        "# Model\n",
        "model = LinearRegression()\n",
        "\n",
        "# GridSearchCV\n",
        "grid_search = GridSearchCV(model, param_grid, cv=5, scoring='r2', verbose=1)\n",
        "grid_search.fit(X_train, y_train)\n",
        "\n",
        "# Model terbaik\n",
        "best_model = grid_search.best_estimator_\n",
        "print(\"Best Parameters:\", grid_search.best_params_)"
      ]
    },
    {
      "cell_type": "markdown",
      "metadata": {
        "id": "Qya59u9ziNg1"
      },
      "source": [
        "# Evaluasi"
      ]
    },
    {
      "cell_type": "code",
      "execution_count": null,
      "metadata": {
        "id": "WflcUXHziNg1",
        "outputId": "da60be7b-43a3-4548-8a5b-c2376852d7ee"
      },
      "outputs": [
        {
          "name": "stdout",
          "output_type": "stream",
          "text": [
            "Intercept: 0.0\n",
            "Koefisien untuk TPT: -44312.83386287643\n",
            "Koefisien untuk TPP_SD: -20896.963138932893\n",
            "Koefisien untuk TPP_SMP: 23920.179971892216\n",
            "Koefisien untuk TPP_SMA: 4154.637272322874\n",
            "Koefisien untuk UPAH: 0.26702411101723555\n"
          ]
        }
      ],
      "source": [
        "# Menampilkan koefisien model\n",
        "coefficients = best_model.coef_\n",
        "intercept = best_model.intercept_\n",
        "\n",
        "# Menampilkan koefisien untuk setiap variabel\n",
        "print(\"Intercept:\", intercept)\n",
        "for feature, coef in zip(X_train.columns, coefficients):\n",
        "    print(f\"Koefisien untuk {feature}: {coef}\")"
      ]
    },
    {
      "cell_type": "code",
      "execution_count": null,
      "metadata": {
        "id": "9UYnoQO6iNg2",
        "outputId": "413ed26a-364c-47f7-a5d6-26264ff92746"
      },
      "outputs": [
        {
          "name": "stdout",
          "output_type": "stream",
          "text": [
            "Mean Absolute Error (MAE): 180143.1311508012\n",
            "Mean Squared Error (MSE): 51798204901.92779\n",
            "Root Mean Squared Error (RMSE): 227592.18989659505\n",
            "R-squared (R²): 0.7734250701295733\n"
          ]
        }
      ],
      "source": [
        "from sklearn.metrics import mean_absolute_error, mean_squared_error, r2_score\n",
        "import numpy as np\n",
        "\n",
        "# Prediksi dan data aktual\n",
        "y_pred = best_model.predict(X_test)\n",
        "\n",
        "# Evaluasi Metrik\n",
        "mae = mean_absolute_error(y_test, y_pred)\n",
        "mse = mean_squared_error(y_test, y_pred)\n",
        "rmse = np.sqrt(mse)\n",
        "r2 = r2_score(y_test, y_pred)\n",
        "\n",
        "print(f\"Mean Absolute Error (MAE): {mae}\")\n",
        "print(f\"Mean Squared Error (MSE): {mse}\")\n",
        "print(f\"Root Mean Squared Error (RMSE): {rmse}\")\n",
        "print(f\"R-squared (R²): {r2}\")\n"
      ]
    }
  ],
  "metadata": {
    "kernelspec": {
      "display_name": "Python 3",
      "language": "python",
      "name": "python3"
    },
    "language_info": {
      "codemirror_mode": {
        "name": "ipython",
        "version": 3
      },
      "file_extension": ".py",
      "mimetype": "text/x-python",
      "name": "python",
      "nbconvert_exporter": "python",
      "pygments_lexer": "ipython3",
      "version": "3.12.2"
    },
    "colab": {
      "provenance": []
    }
  },
  "nbformat": 4,
  "nbformat_minor": 0
}